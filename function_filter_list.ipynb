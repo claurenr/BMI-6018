{
 "cells": [
  {
   "cell_type": "code",
   "execution_count": 5,
   "id": "092ee0b5-c740-4be9-ae6e-3a0f1711d58a",
   "metadata": {},
   "outputs": [
    {
     "data": {
      "text/plain": [
       "[1, 2, 3, 4]"
      ]
     },
     "execution_count": 5,
     "metadata": {},
     "output_type": "execute_result"
    }
   ],
   "source": [
    "'''\n",
    "Write a python program that, given an input list, will filter the input above a user defined threshold. This is to be done with a standard function.\n",
    "That is, given a list [1,2,3,4,5,6,7,8,9], and an argument (6), it should return [1,2,3,4,5,6]\n",
    "'''\n",
    "\n",
    "def filter_list(item_list, threshold):\n",
    "    return (item_list[:threshold])\n",
    "\n",
    "item_lst = [1,2,3,4,[5,6,7,[8,9]]]\n",
    "num = 4\n",
    "filter_list(item_lst, num)\n",
    "    "
   ]
  },
  {
   "cell_type": "code",
   "execution_count": null,
   "id": "46d3a780-4005-4178-8cbb-8e617740cef1",
   "metadata": {},
   "outputs": [],
   "source": []
  }
 ],
 "metadata": {
  "kernelspec": {
   "display_name": "Python 3 (ipykernel)",
   "language": "python",
   "name": "python3"
  },
  "language_info": {
   "codemirror_mode": {
    "name": "ipython",
    "version": 3
   },
   "file_extension": ".py",
   "mimetype": "text/x-python",
   "name": "python",
   "nbconvert_exporter": "python",
   "pygments_lexer": "ipython3",
   "version": "3.11.5"
  }
 },
 "nbformat": 4,
 "nbformat_minor": 5
}
