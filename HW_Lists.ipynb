{
 "cells": [
  {
   "cell_type": "code",
   "execution_count": 322,
   "id": "43c61910",
   "metadata": {},
   "outputs": [
    {
     "name": "stdout",
     "output_type": "stream",
     "text": [
      "Assignment 3\n"
     ]
    }
   ],
   "source": [
    "\"\"\"BMI 6018 Fall 2022 \n",
    "\n",
    "Instructions: For this assignment, please return all answers as variables in your\n",
    ".py file. You will quickly note that you will need to find answers outside the\n",
    "class lectures. This is not an accident! You will need to become professionally\n",
    "comfortable with looking things up via the python docs and google. \n",
    "\n",
    "Ensure that all variables are labelled according to the example. IE the answer\n",
    "to problem 1 part c should be labelled one_c. While all questions are answerable\n",
    "with a single line of code, you are free to use helper variables so long as they\n",
    "are helpfully/informatively named. \n",
    "\n",
    "I should be able to open your .py file and run it without errors. I will **not** be \n",
    "debugging your code for you. If your file does not run, it will **not** be graded. \n",
    "If you are unsure if your file will run, open up a chpc terminal and test it there.\n",
    "\n",
    "For this assignment, please only use base python files types. That is: there \n",
    "should be no import calls in your file save my use of sys at the end.\n",
    "\n",
    "Example Problem\n",
    "\n",
    "0.a Create a list of strings\n",
    "0.b Using a str method, capitalize one of the elements in the list using a slice\n",
    "0.c Coerce one character of the list to display as a hex\n",
    "\n",
    "zero_a = ['first','second','third','fourth','fifth']\n",
    "zero_b = zero_a[1].upper()\n",
    "zero_c = hex(ord(zero_a[1][1]))\n",
    "\n",
    "#Problem 1: Lists, Sets and Coersion\n",
    "\n",
    "1.a Create a list of integers no fewer than 10 items from 0 to 9.\n",
    " .b Add 3 to the 5th indexed element\n",
    " .c Coerce all elements in the list to floats using list comprehension\n",
    " .d Coerce the list to a set\n",
    " .e Using a method, append int 10 to the set\n",
    " .f Using a method, pop an item from the set\n",
    " .g Using a length counting function, count the number of items in the set\n",
    " .h Check if the number of items in the set is the same as the \n",
    "    number of items in the list\n",
    " .i Coerce the set to a list and use the \"+\" operator combine the list to the list from 1.a\n",
    " .j Coerce 1.i to a set\n",
    " .k Count the number of elements in the 1.j\n",
    "\n",
    "\n",
    "\n",
    "Problem 2: Dictionary woes\n",
    "\n",
    "2.a Combine the three sample dictionaries (given below) into a nested dictionary (nested in programming means joined), named \n",
    "    two_a, ensure the key names are the same as the dictionary names.\n",
    " .b Using keys, retrieve the Dango's name from 2.a\n",
    " .c Using keys, update the value of Mochi's year to 2018. This should not be a variable\n",
    "    and should simply update 2.a.\n",
    " .d Manually create a dictionary that has a single level and contains each patient\n",
    "    as the key and the year as the value. Set Mochi's year to 2019.'\n",
    " .e Coerce the keys of 2.d into a list\n",
    " .f Coerce the values of 2.d into a list\n",
    " .g Use the zip function to combine 2.e and 2.f into a dictionary again\n",
    "\n",
    "\n",
    "two_patient_dictionary_kinoko = {\n",
    "  \"name\" : \"Kinoko\",\n",
    "  \"year\" : 2021\n",
    "}\n",
    "two_patient_dictionary_dango = {\n",
    "  \"name\" : \"Dango\",\n",
    "  \"year\" : 2019\n",
    "}\n",
    "two_patient_dictionary_mochi  = {\n",
    "  \"name\" : \"Mochi\",\n",
    "  \"year\" : 2020\n",
    "}\n",
    "\n",
    "\n",
    "\n",
    "Problem 3: Set combinations\n",
    "\n",
    "Given the predefined sets below and using set methods\n",
    "3.a Is set E a subset of set A\n",
    " .b Is set E a strict subset of set A\n",
    " .c Create a set that is the intersection of set A and set B\n",
    " .d Create a set that is the union of sets C, D and E\n",
    " .e add 9 to the set\n",
    " .f Using == compare this set to the list in one_a\n",
    " .g Explain why they are not the same. What would you need to change if you\n",
    "    wanted this to be True?\n",
    " \n",
    "\n",
    "three_setA = {1,2,3,4,5}\n",
    "three_setB = {2,3,4,5,6}\n",
    "three_setC = {3,5,7,9}\n",
    "three_setD = {2,4,6,8}\n",
    "three_setE = {1,2,3,4}\n",
    "\n",
    "\n",
    "\n",
    "Problem 4: Changing variable types\n",
    "\n",
    "For each step you will modify a variable, then append the type of the variable\n",
    "to a list. Do not recreate the list variable, it should be a running list of \n",
    "types.\n",
    "\n",
    "4.a Create a variable of type int with the value of 8\n",
    " .b Create an empty list \n",
    " .c Using type(), add the type of 4.a to this list\n",
    " .d Add 0.39 to 4.c\n",
    " .e append the type of 0.39 to the list\n",
    " .f exponentiate to the -10, ie: 4.d^-10,(hint: there might be an artihmetic operator to do so) round it to no \n",
    "    decimal places, and append to list.\n",
    " .g append the type to the list\n",
    " \n",
    " \n",
    "Problem 5: More variable type changes\n",
    "\n",
    "Continue from where you left off in Problem 4.\n",
    "\n",
    "5.a Manually create a dictionary where the values are items in the list from where we left in \n",
    "    problem 4, and the keys should be their index in the list. Print the dictionary.\n",
    " .b Add 300 and coerce it into a string\n",
    " .c append the type to the list\n",
    " .d slice the string up to the 2nd element\n",
    " .e append the type to the list\n",
    " .f use list comprehension to convert this into a new list of integers\n",
    " .g append the type to the list\n",
    " .h append the type of three_setA to the list\n",
    "\"\"\"\n",
    "\n",
    "#Start your assignment here\n",
    "print(\"Assignment 3\")\n"
   ]
  },
  {
   "cell_type": "code",
   "execution_count": null,
   "id": "3b89cf91-95a5-451d-b982-82def53c8ed6",
   "metadata": {},
   "outputs": [],
   "source": []
  },
  {
   "cell_type": "code",
   "execution_count": 323,
   "id": "747d28b5-46ec-464c-ab19-5f34353c8354",
   "metadata": {},
   "outputs": [
    {
     "data": {
      "text/plain": [
       "[0, 1, 2, 3, 4, 5, 6, 7, 8, 9]"
      ]
     },
     "execution_count": 323,
     "metadata": {},
     "output_type": "execute_result"
    }
   ],
   "source": [
    "#Problem 1: Lists, Sets and Coersion\n",
    "\n",
    "#Create a list of integers no fewer than 10 items from 0 to 9.\n",
    "one_a = [0, 1, 2, 3, 4, 5, 6, 7, 8, 9]\n",
    "one_a"
   ]
  },
  {
   "cell_type": "code",
   "execution_count": 324,
   "id": "b0dfe99b-1ef6-481a-8460-5686233ab844",
   "metadata": {},
   "outputs": [
    {
     "data": {
      "text/plain": [
       "8"
      ]
     },
     "execution_count": 324,
     "metadata": {},
     "output_type": "execute_result"
    }
   ],
   "source": [
    "#Add 3 to the 5th indexed element\n",
    "one_b = one_a[5] + 3\n",
    "one_b"
   ]
  },
  {
   "cell_type": "code",
   "execution_count": 325,
   "id": "c81e2368-05c2-47cb-9a64-0414add1876d",
   "metadata": {},
   "outputs": [
    {
     "data": {
      "text/plain": [
       "[0.0, 1.0, 2.0, 3.0, 4.0, 5.0, 6.0, 7.0, 8.0, 9.0]"
      ]
     },
     "execution_count": 325,
     "metadata": {},
     "output_type": "execute_result"
    }
   ],
   "source": [
    "#Coerce all elements in the list to floats using list comprehension\n",
    "one_c = [float(x) for x in one_a]\n",
    "one_c"
   ]
  },
  {
   "cell_type": "code",
   "execution_count": 326,
   "id": "54a775bd-3877-4aa5-89a2-10d1e61e0da4",
   "metadata": {},
   "outputs": [
    {
     "data": {
      "text/plain": [
       "{0, 1, 2, 3, 4, 5, 6, 7, 8, 9}"
      ]
     },
     "execution_count": 326,
     "metadata": {},
     "output_type": "execute_result"
    }
   ],
   "source": [
    "#Coerce the list to a set\n",
    "one_d = set(one_a)\n",
    "one_d"
   ]
  },
  {
   "cell_type": "code",
   "execution_count": 327,
   "id": "1948933b-8c0d-4ebb-8f39-13890263c431",
   "metadata": {},
   "outputs": [
    {
     "data": {
      "text/plain": [
       "{0, 1, 2, 3, 4, 5, 6, 7, 8, 9, 10}"
      ]
     },
     "execution_count": 327,
     "metadata": {},
     "output_type": "execute_result"
    }
   ],
   "source": [
    "#Using a method, append int 10 to the set\n",
    "one_e = one_d\n",
    "one_d.add(10)\n",
    "one_e"
   ]
  },
  {
   "cell_type": "code",
   "execution_count": 328,
   "id": "f2028a4b-08ff-4b4f-8995-f5bf16b58cbd",
   "metadata": {},
   "outputs": [
    {
     "data": {
      "text/plain": [
       "0"
      ]
     },
     "execution_count": 328,
     "metadata": {},
     "output_type": "execute_result"
    }
   ],
   "source": [
    "#Using a method, pop an item from the set\n",
    "one_f = one_d.pop()\n",
    "one_f"
   ]
  },
  {
   "cell_type": "code",
   "execution_count": 329,
   "id": "b6519fc8-9936-433a-a24c-b2f7b8fea9a4",
   "metadata": {},
   "outputs": [
    {
     "data": {
      "text/plain": [
       "10"
      ]
     },
     "execution_count": 329,
     "metadata": {},
     "output_type": "execute_result"
    }
   ],
   "source": [
    "#Using a length counting function, count the number of items in the set\n",
    "one_g = len(one_d)\n",
    "one_g\n"
   ]
  },
  {
   "cell_type": "code",
   "execution_count": 330,
   "id": "da34034e-fd35-4612-b240-26c7bf04af06",
   "metadata": {},
   "outputs": [
    {
     "data": {
      "text/plain": [
       "False"
      ]
     },
     "execution_count": 330,
     "metadata": {},
     "output_type": "execute_result"
    }
   ],
   "source": [
    "#Check if the number of items in the set is the same as the number of items in the list\n",
    "one_h = one_a == one_f\n",
    "one_h"
   ]
  },
  {
   "cell_type": "code",
   "execution_count": 331,
   "id": "72ea0622-1450-438e-b649-d133606baea2",
   "metadata": {},
   "outputs": [
    {
     "data": {
      "text/plain": [
       "[1, 2, 3, 4, 5, 6, 7, 8, 9, 10, 0, 1, 2, 3, 4, 5, 6, 7, 8, 9]"
      ]
     },
     "execution_count": 331,
     "metadata": {},
     "output_type": "execute_result"
    }
   ],
   "source": [
    "#Coerce the set to a list and use the \"+\" operator combine the list to the list from 1.a\n",
    "one_i = list(one_d) + one_a\n",
    "one_i"
   ]
  },
  {
   "cell_type": "code",
   "execution_count": 332,
   "id": "48f8eee3-0428-4d0c-9f0c-1042ac89eae9",
   "metadata": {},
   "outputs": [
    {
     "data": {
      "text/plain": [
       "{0, 1, 2, 3, 4, 5, 6, 7, 8, 9, 10}"
      ]
     },
     "execution_count": 332,
     "metadata": {},
     "output_type": "execute_result"
    }
   ],
   "source": [
    "#Coerce 1.i to a set\n",
    "one_j = set(one_i)\n",
    "one_j"
   ]
  },
  {
   "cell_type": "code",
   "execution_count": 333,
   "id": "92a828c7-0f92-4521-8649-af29e8454440",
   "metadata": {},
   "outputs": [
    {
     "data": {
      "text/plain": [
       "11"
      ]
     },
     "execution_count": 333,
     "metadata": {},
     "output_type": "execute_result"
    }
   ],
   "source": [
    "# Count the number of elements in the 1.j\n",
    "one_k = len(one_j)\n",
    "one_k"
   ]
  },
  {
   "cell_type": "code",
   "execution_count": 334,
   "id": "71bfb18e-ddfd-4e59-a822-cbe1f11af0cc",
   "metadata": {},
   "outputs": [
    {
     "data": {
      "text/plain": [
       "{'two_patient_dictionary_kinoko': {'name': 'Kinoko', 'year': 2021},\n",
       " 'two_patient_dictionary_dango': {'name': 'Dango', 'year': 2019},\n",
       " 'two_patient_dictionary_mochi': {'name': 'Mochi', 'year': 2020}}"
      ]
     },
     "execution_count": 334,
     "metadata": {},
     "output_type": "execute_result"
    }
   ],
   "source": [
    "#Problem 2: Dictionary woes\n",
    "\n",
    "#a Combine the three sample dictionaries into a nested dictionary \n",
    "two_a = {'two_patient_dictionary_kinoko':{\"name\" : \"Kinoko\",\"year\" : 2021},\n",
    "'two_patient_dictionary_dango': {\"name\" : \"Dango\", \"year\" : 2019},\n",
    "'two_patient_dictionary_mochi': {\"name\" : \"Mochi\",\"year\" : 2020}}\n",
    "two_a"
   ]
  },
  {
   "cell_type": "code",
   "execution_count": 335,
   "id": "31d5ef8e-c284-4554-a89a-cc0a5c087101",
   "metadata": {},
   "outputs": [
    {
     "data": {
      "text/plain": [
       "'Dango'"
      ]
     },
     "execution_count": 335,
     "metadata": {},
     "output_type": "execute_result"
    }
   ],
   "source": [
    "#b Using keys, retrieve the Dango's name from 2.a\n",
    "two_b = two_a['two_patient_dictionary_dango']['name']\n",
    "two_b"
   ]
  },
  {
   "cell_type": "code",
   "execution_count": 336,
   "id": "f48fbc4a-7645-4a56-901a-75bd6b019002",
   "metadata": {},
   "outputs": [
    {
     "data": {
      "text/plain": [
       "{'two_patient_dictionary_kinoko': {'name': 'Kinoko', 'year': 2021},\n",
       " 'two_patient_dictionary_dango': {'name': 'Dango', 'year': 2019},\n",
       " 'two_patient_dictionary_mochi': {'name': 'Mochi', 'year': 2018}}"
      ]
     },
     "execution_count": 336,
     "metadata": {},
     "output_type": "execute_result"
    }
   ],
   "source": [
    "#c Using keys, update the value of Mochi's year to 2018.\n",
    "two_a['two_patient_dictionary_mochi']['year'] = 2018\n",
    "two_a"
   ]
  },
  {
   "cell_type": "code",
   "execution_count": 337,
   "id": "29ae22b7-5814-4657-b7d5-1c6acc5addfd",
   "metadata": {},
   "outputs": [
    {
     "data": {
      "text/plain": [
       "{'Kinoko': 2021, 'Dango': 2019, 'Mochi': 2019}"
      ]
     },
     "execution_count": 337,
     "metadata": {},
     "output_type": "execute_result"
    }
   ],
   "source": [
    "#d  Manually create a dictionary that has a single level and contains each patient as the key and the year as the value. Set Mochi's year to 2019.'\n",
    "two_d = {'Kinoko': 2021, 'Dango': 2019, 'Mochi': 2019}\n",
    "two_d"
   ]
  },
  {
   "cell_type": "code",
   "execution_count": 338,
   "id": "dacfefe6-62e0-4023-97dd-29803118d23e",
   "metadata": {},
   "outputs": [
    {
     "data": {
      "text/plain": [
       "['Kinoko', 'Dango', 'Mochi']"
      ]
     },
     "execution_count": 338,
     "metadata": {},
     "output_type": "execute_result"
    }
   ],
   "source": [
    "#e Coerce the keys of 2.d into a list\n",
    "two_e = list(two_d.keys())\n",
    "two_e"
   ]
  },
  {
   "cell_type": "code",
   "execution_count": 339,
   "id": "1547b430-c47b-4aa5-8105-fc809a1f34b9",
   "metadata": {},
   "outputs": [
    {
     "data": {
      "text/plain": [
       "[2021, 2019, 2019]"
      ]
     },
     "execution_count": 339,
     "metadata": {},
     "output_type": "execute_result"
    }
   ],
   "source": [
    "#f Coerce the values of 2.d into a list\n",
    "two_f = list(two_d.values())\n",
    "two_f"
   ]
  },
  {
   "cell_type": "code",
   "execution_count": 340,
   "id": "3e9e9ab9-fc99-4ced-9983-46ee82b1e556",
   "metadata": {},
   "outputs": [
    {
     "data": {
      "text/plain": [
       "{'Kinoko': 2021, 'Dango': 2019, 'Mochi': 2019}"
      ]
     },
     "execution_count": 340,
     "metadata": {},
     "output_type": "execute_result"
    }
   ],
   "source": [
    "#g Use the zip function to combine 2.e and 2.f into a dictionary again\n",
    "two_g = {two_e: two_f for two_e,\n",
    "    two_f in zip(two_e, two_f)}\n",
    "two_g\n"
   ]
  },
  {
   "cell_type": "code",
   "execution_count": 341,
   "id": "e4f5c309-f56a-4395-9016-d37a50e0eeb9",
   "metadata": {},
   "outputs": [
    {
     "data": {
      "text/plain": [
       "True"
      ]
     },
     "execution_count": 341,
     "metadata": {},
     "output_type": "execute_result"
    }
   ],
   "source": [
    "#Problem 3: Set combinations\n",
    "#a Is set E a subset of set A\n",
    "\n",
    "three_setA = {1,2,3,4,5}\n",
    "three_setB = {2,3,4,5,6}\n",
    "three_setC = {3,5,7,9}\n",
    "three_setD = {2,4,6,8}\n",
    "three_setE = {1,2,3,4}\n",
    "\n",
    "three_a = three_setE.issubset(three_setA)\n",
    "three_a"
   ]
  },
  {
   "cell_type": "code",
   "execution_count": 342,
   "id": "82ef75b8-1c81-41d9-a2dc-ad9e9dbf69d7",
   "metadata": {},
   "outputs": [
    {
     "data": {
      "text/plain": [
       "True"
      ]
     },
     "execution_count": 342,
     "metadata": {},
     "output_type": "execute_result"
    }
   ],
   "source": [
    "#b Is set E a strict subset of set A\n",
    "three_b = three_setA.issuperset(three_setE)\n",
    "three_b"
   ]
  },
  {
   "cell_type": "code",
   "execution_count": 343,
   "id": "c0de6a86-9de6-4a2a-a4b8-8d4b49613c10",
   "metadata": {},
   "outputs": [
    {
     "data": {
      "text/plain": [
       "{2, 3, 4, 5}"
      ]
     },
     "execution_count": 343,
     "metadata": {},
     "output_type": "execute_result"
    }
   ],
   "source": [
    "#c Create a set that is the intersection of set A and set B\n",
    "three_c = three_setA.intersection(three_setB)\n",
    "three_c"
   ]
  },
  {
   "cell_type": "code",
   "execution_count": 344,
   "id": "4af367fc-8627-4439-93b4-b6960494f79d",
   "metadata": {},
   "outputs": [
    {
     "data": {
      "text/plain": [
       "{1, 2, 3, 4, 5, 6, 7, 8, 9}"
      ]
     },
     "execution_count": 344,
     "metadata": {},
     "output_type": "execute_result"
    }
   ],
   "source": [
    "#d Create a set that is the union of sets C, D and E\n",
    "three_d = three_setC.union(three_setD, three_setE)\n",
    "three_d"
   ]
  },
  {
   "cell_type": "code",
   "execution_count": 345,
   "id": "6bc6ddf6-cee2-40ed-8704-e820eef5cba2",
   "metadata": {},
   "outputs": [
    {
     "data": {
      "text/plain": [
       "{1, 2, 3, 4, 5, 6, 7, 8, 9}"
      ]
     },
     "execution_count": 345,
     "metadata": {},
     "output_type": "execute_result"
    }
   ],
   "source": [
    "#e add 9 to the set\n",
    "three_e = three_d\n",
    "three_e.add(9)\n",
    "three_e"
   ]
  },
  {
   "cell_type": "code",
   "execution_count": 346,
   "id": "440bf738-de86-4b23-9ad3-a5ee94aee4c7",
   "metadata": {},
   "outputs": [
    {
     "data": {
      "text/plain": [
       "False"
      ]
     },
     "execution_count": 346,
     "metadata": {},
     "output_type": "execute_result"
    }
   ],
   "source": [
    "#f Using == compare this set to the list in one_a\n",
    "three_f = three_e == one_a\n",
    "three_f"
   ]
  },
  {
   "cell_type": "code",
   "execution_count": 347,
   "id": "e76e37ec-b551-444b-976c-fbb6fac6a22d",
   "metadata": {},
   "outputs": [
    {
     "data": {
      "text/plain": [
       "True"
      ]
     },
     "execution_count": 347,
     "metadata": {},
     "output_type": "execute_result"
    }
   ],
   "source": [
    "# .g Explain why they are not the same. What would you need to change if you wanted this to be True?\n",
    "\n",
    "'''\n",
    "three_e is missing 0 and is not a list so comparing three_e to one_a returns false. When I add 0 and make three_e a list the output is True. \n",
    "'''\n",
    "three_e.add(0) #add zero to set\n",
    "list(three_e) == one_a #compare the two as lists \n",
    "\n"
   ]
  },
  {
   "cell_type": "code",
   "execution_count": 348,
   "id": "4fe572e8-cf06-476a-91a8-3786f851fcd2",
   "metadata": {},
   "outputs": [
    {
     "data": {
      "text/plain": [
       "8"
      ]
     },
     "execution_count": 348,
     "metadata": {},
     "output_type": "execute_result"
    }
   ],
   "source": [
    "#Problem 4: Changing variable types\n",
    "'''\n",
    "For each step you will modify a variable, then append the type of the variable\n",
    "to a list. Do not recreate the list variable, it should be a running list of \n",
    "types.\n",
    "'''\n",
    "#a Create a variable of type int with the value of 8\n",
    "four_a = 8\n",
    "four_a"
   ]
  },
  {
   "cell_type": "code",
   "execution_count": 349,
   "id": "1d3296eb-17b9-4425-b2bd-da992291f851",
   "metadata": {},
   "outputs": [
    {
     "data": {
      "text/plain": [
       "[]"
      ]
     },
     "execution_count": 349,
     "metadata": {},
     "output_type": "execute_result"
    }
   ],
   "source": [
    "#b Create an empty list \n",
    "four_b = []\n",
    "four_b"
   ]
  },
  {
   "cell_type": "code",
   "execution_count": 350,
   "id": "687f4bbb-2b87-4a10-9a65-e8b4567c79a1",
   "metadata": {},
   "outputs": [
    {
     "data": {
      "text/plain": [
       "[int]"
      ]
     },
     "execution_count": 350,
     "metadata": {},
     "output_type": "execute_result"
    }
   ],
   "source": [
    "#c Using type(), add the type of 4.a to this list\n",
    "four_b.append(type(four_a))\n",
    "four_b"
   ]
  },
  {
   "cell_type": "code",
   "execution_count": 351,
   "id": "0cbb3b80-548f-45cc-acfb-584d826d519f",
   "metadata": {},
   "outputs": [
    {
     "data": {
      "text/plain": [
       "[int, 0.39]"
      ]
     },
     "execution_count": 351,
     "metadata": {},
     "output_type": "execute_result"
    }
   ],
   "source": [
    "#.d Add 0.39 to 4.c\n",
    "four_d = 0.39\n",
    "four_b.append(four_d)\n",
    "four_b"
   ]
  },
  {
   "cell_type": "code",
   "execution_count": 352,
   "id": "5460dbde-5999-4c4a-8304-2c075c8c542b",
   "metadata": {},
   "outputs": [
    {
     "data": {
      "text/plain": [
       "[int, float]"
      ]
     },
     "execution_count": 352,
     "metadata": {},
     "output_type": "execute_result"
    }
   ],
   "source": [
    "#e append the type of 0.39 to the list\n",
    "four_b[1] = type(four_b[1])\n",
    "four_b"
   ]
  },
  {
   "cell_type": "code",
   "execution_count": 353,
   "id": "77fdb036-a67d-4aba-aaff-5323e31ac065",
   "metadata": {},
   "outputs": [
    {
     "data": {
      "text/plain": [
       "[int, float, 12284]"
      ]
     },
     "execution_count": 353,
     "metadata": {},
     "output_type": "execute_result"
    }
   ],
   "source": [
    "#.f exponentiate to the -10, ie: 4.d^-10,(hint: there might be an artihmetic operator to do so) round it to no decimal places, and append to list.\n",
    "exp_four_d = round(four_d**-10)\n",
    "four_b.append(exp_four_d)\n",
    "four_b"
   ]
  },
  {
   "cell_type": "code",
   "execution_count": 354,
   "id": "15a18c25-3010-4a37-af33-b1fc0e759a7d",
   "metadata": {},
   "outputs": [
    {
     "data": {
      "text/plain": [
       "[int, float, int]"
      ]
     },
     "execution_count": 354,
     "metadata": {},
     "output_type": "execute_result"
    }
   ],
   "source": [
    "#g append the type to the list\n",
    "four_b[2] = type(four_b[2])\n",
    "four_b"
   ]
  },
  {
   "cell_type": "code",
   "execution_count": 366,
   "id": "e8855189-bfdf-4ba6-b7df-ae6137e4fe20",
   "metadata": {},
   "outputs": [
    {
     "name": "stdout",
     "output_type": "stream",
     "text": [
      "{0: 'int', 1: 'float', 2: 'int'}\n"
     ]
    }
   ],
   "source": [
    " #Problem 5: More variable type changes\n",
    "\n",
    "#a Manually create a dictionary where the values are items in the list from where we left in problem 4, and the keys should be their index in the list. \n",
    "five_a = {0 :\"int\", 1:\"float\", 2: \"int\"}\n",
    "#print dictionary\n",
    "print(five_a)"
   ]
  },
  {
   "cell_type": "code",
   "execution_count": 356,
   "id": "559d6a72-0c96-412c-bb1f-9d5e4e181218",
   "metadata": {},
   "outputs": [
    {
     "data": {
      "text/plain": [
       "[int, float, int, '300']"
      ]
     },
     "execution_count": 356,
     "metadata": {},
     "output_type": "execute_result"
    }
   ],
   "source": [
    "#b Add 300 and coerce it into a string\n",
    "five_b = '300'\n",
    "four_b.append(five_b)\n",
    "four_b"
   ]
  },
  {
   "cell_type": "code",
   "execution_count": 357,
   "id": "851dd810-f07e-438c-86d0-555c8e658dc3",
   "metadata": {},
   "outputs": [
    {
     "data": {
      "text/plain": [
       "[int, float, int, str]"
      ]
     },
     "execution_count": 357,
     "metadata": {},
     "output_type": "execute_result"
    }
   ],
   "source": [
    "#c append the type to the list\n",
    "four_b[3] = type(four_b[3])\n",
    "four_b"
   ]
  },
  {
   "cell_type": "code",
   "execution_count": 358,
   "id": "1b2e2cc1-df34-47f7-97a7-a949f5645052",
   "metadata": {},
   "outputs": [
    {
     "data": {
      "text/plain": [
       "'30'"
      ]
     },
     "execution_count": 358,
     "metadata": {},
     "output_type": "execute_result"
    }
   ],
   "source": [
    "#d slice the string up to the 2nd element\n",
    "five_d = five_b[:2]\n",
    "five_d"
   ]
  },
  {
   "cell_type": "code",
   "execution_count": 359,
   "id": "6c9f3c30-0b77-4cd9-81e9-2efce2a46a44",
   "metadata": {},
   "outputs": [
    {
     "data": {
      "text/plain": [
       "[int, float, int, str, str]"
      ]
     },
     "execution_count": 359,
     "metadata": {},
     "output_type": "execute_result"
    }
   ],
   "source": [
    "#e append the type to the list\n",
    "four_b.append(type(five_d))\n",
    "four_b"
   ]
  },
  {
   "cell_type": "code",
   "execution_count": 361,
   "id": "079a7706-86fb-4c0b-b624-4016124da9c7",
   "metadata": {},
   "outputs": [
    {
     "data": {
      "text/plain": [
       "[1, 1, 1, 1, 1]"
      ]
     },
     "execution_count": 361,
     "metadata": {},
     "output_type": "execute_result"
    }
   ],
   "source": [
    "#f use list comprehension to convert this into a new list of integers\n",
    "five_f = [1 for x in four_b ]\n",
    "five_f"
   ]
  },
  {
   "cell_type": "code",
   "execution_count": 362,
   "id": "2d6838ea-946c-4d9a-ab12-e406cd7200ce",
   "metadata": {},
   "outputs": [
    {
     "data": {
      "text/plain": [
       "[int, float, int, str, str, list]"
      ]
     },
     "execution_count": 362,
     "metadata": {},
     "output_type": "execute_result"
    }
   ],
   "source": [
    "#g append the type to the list\n",
    "four_b.append(type(five_f))\n",
    "four_b"
   ]
  },
  {
   "cell_type": "code",
   "execution_count": 364,
   "id": "0b82721b-9624-426e-ad84-6d9ce8e0ce9f",
   "metadata": {},
   "outputs": [
    {
     "data": {
      "text/plain": [
       "[int, float, int, str, str, list, set]"
      ]
     },
     "execution_count": 364,
     "metadata": {},
     "output_type": "execute_result"
    }
   ],
   "source": [
    "#h append the type of three_setA to the list\n",
    "four_b.append(type(three_setA))\n",
    "four_b"
   ]
  },
  {
   "cell_type": "code",
   "execution_count": null,
   "id": "acc418ff-e3a5-477c-b66c-a06b983f67c3",
   "metadata": {},
   "outputs": [],
   "source": []
  }
 ],
 "metadata": {
  "kernelspec": {
   "display_name": "Python 3 (ipykernel)",
   "language": "python",
   "name": "python3"
  },
  "language_info": {
   "codemirror_mode": {
    "name": "ipython",
    "version": 3
   },
   "file_extension": ".py",
   "mimetype": "text/x-python",
   "name": "python",
   "nbconvert_exporter": "python",
   "pygments_lexer": "ipython3",
   "version": "3.11.5"
  }
 },
 "nbformat": 4,
 "nbformat_minor": 5
}
