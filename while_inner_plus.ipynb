{
 "cells": [
  {
   "cell_type": "code",
   "execution_count": 88,
   "id": "01877333-594c-485f-996a-52d8b0234ccd",
   "metadata": {},
   "outputs": [
    {
     "data": {
      "text/plain": [
       "[4]"
      ]
     },
     "execution_count": 88,
     "metadata": {},
     "output_type": "execute_result"
    }
   ],
   "source": [
    "'''\n",
    "Write a python program that, given an input list of any level of complexity/nestedness, will return the inner most list plus 1. \n",
    "This is to be done with a while loop. Note: the input will contain only integers or lists. \n",
    "As an example:\n",
    "\n",
    "input_list = [1,2,3,4,[5,6,7,[8,9]]]\n",
    "\n",
    "your_py_program.py input_list\n",
    "\n",
    "will produce:\n",
    "\n",
    "[9,10]\n",
    "\n",
    "That is [8, 9] (the inner most list) plus 1 -> [9, 10]\n",
    "'''\n",
    "#I relied heavily on the example Traverse a Nested List from the real python reading in Module 5\n",
    "def inner_most_list(item_list):\n",
    "    stack = []\n",
    "    current_list = item_list\n",
    "    i = 0\n",
    "    while True:\n",
    "        #if i == len(current_list) we have gotten to the last element/list of the list\n",
    "        if i == len(current_list):\n",
    "            #the for loop goes through the last list or the whole list if it was not nested and adds 1 then returns the list\n",
    "            for x in range(len(current_list)):\n",
    "                current_list[x] = current_list[x] + 1 \n",
    "            return current_list\n",
    "        #isinstance returns true if the element of the list at i is a nested list\n",
    "        if isinstance(current_list[i], list):\n",
    "            #here we appened the current_list and the index of the start of a nested list\n",
    "            stack.append([current_list, i])\n",
    "            #we set current_list equal the list at i\n",
    "            current_list = current_list[i]\n",
    "            #set i back to 0 so we can start working through the nested list from index 0 of the nested list\n",
    "            i = 0\n",
    "        else:\n",
    "            i += 1\n",
    "\n",
    "inner_most_list([3]) \n"
   ]
  },
  {
   "cell_type": "code",
   "execution_count": null,
   "id": "6f4e98ac-7fe3-4c88-8ee4-9706fa54e0b8",
   "metadata": {},
   "outputs": [],
   "source": []
  }
 ],
 "metadata": {
  "kernelspec": {
   "display_name": "Python 3 (ipykernel)",
   "language": "python",
   "name": "python3"
  },
  "language_info": {
   "codemirror_mode": {
    "name": "ipython",
    "version": 3
   },
   "file_extension": ".py",
   "mimetype": "text/x-python",
   "name": "python",
   "nbconvert_exporter": "python",
   "pygments_lexer": "ipython3",
   "version": "3.11.5"
  }
 },
 "nbformat": 4,
 "nbformat_minor": 5
}
