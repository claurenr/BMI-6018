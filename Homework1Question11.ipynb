{
 "cells": [
  {
   "cell_type": "code",
   "execution_count": 2,
   "id": "2068c919-fafc-4d1c-ac43-5a01979a0236",
   "metadata": {},
   "outputs": [
    {
     "data": {
      "text/plain": [
       "2"
      ]
     },
     "execution_count": 2,
     "metadata": {},
     "output_type": "execute_result"
    }
   ],
   "source": [
    "#Question 1 Booleans\n",
    "True + True - False\n"
   ]
  },
  {
   "cell_type": "code",
   "execution_count": 15,
   "id": "53973f66-2c86-43ff-aa21-ff0909ccbf18",
   "metadata": {},
   "outputs": [],
   "source": [
    "#Question 2 Booleans 2\n",
    "logical_tracker = True\n"
   ]
  },
  {
   "cell_type": "code",
   "execution_count": 16,
   "id": "7ddebf86-0425-4a11-97d4-7f33a8e8ee59",
   "metadata": {},
   "outputs": [
    {
     "data": {
      "text/plain": [
       "True"
      ]
     },
     "execution_count": 16,
     "metadata": {},
     "output_type": "execute_result"
    }
   ],
   "source": [
    "#logical tracker = logical tracker & logical tracker\n",
    "logical_tracker == True and logical_tracker == True\n"
   ]
  },
  {
   "cell_type": "code",
   "execution_count": 18,
   "id": "91b3c97d-8e50-413d-a567-d002b0f4b9e4",
   "metadata": {},
   "outputs": [
    {
     "data": {
      "text/plain": [
       "True"
      ]
     },
     "execution_count": 18,
     "metadata": {},
     "output_type": "execute_result"
    }
   ],
   "source": [
    "#logical tracker = logical tracker | (logical tracker - logical tracker)\n",
    "logical_tracker == True or (logical_tracker - logical_tracker)"
   ]
  },
  {
   "cell_type": "code",
   "execution_count": 20,
   "id": "ed690606-9b28-4818-abc2-1fcd42e7c456",
   "metadata": {},
   "outputs": [
    {
     "data": {
      "text/plain": [
       "' '"
      ]
     },
     "execution_count": 20,
     "metadata": {},
     "output_type": "execute_result"
    }
   ],
   "source": [
    "#Question 5 Strings\n",
    "string = \"E. Coli\"\n",
    "\n",
    "string[2]"
   ]
  },
  {
   "cell_type": "code",
   "execution_count": 21,
   "id": "0e08cae0-0253-42ef-af0e-05dc1178af65",
   "metadata": {},
   "outputs": [
    {
     "ename": "TypeError",
     "evalue": "'str' object does not support item assignment",
     "output_type": "error",
     "traceback": [
      "\u001b[1;31m---------------------------------------------------------------------------\u001b[0m",
      "\u001b[1;31mTypeError\u001b[0m                                 Traceback (most recent call last)",
      "Cell \u001b[1;32mIn[21], line 8\u001b[0m\n\u001b[0;32m      4\u001b[0m string \u001b[38;5;241m=\u001b[39m \u001b[38;5;124m\"\u001b[39m\u001b[38;5;124mI Bove python\u001b[39m\u001b[38;5;124m\"\u001b[39m\n\u001b[0;32m      6\u001b[0m \u001b[38;5;66;03m#No worries though. I'll just fix that.\u001b[39;00m\n\u001b[1;32m----> 8\u001b[0m \u001b[43mstring\u001b[49m\u001b[43m[\u001b[49m\u001b[38;5;241;43m2\u001b[39;49m\u001b[43m]\u001b[49m\u001b[38;5;241m=\u001b[39m\u001b[38;5;124m\"\u001b[39m\u001b[38;5;124mL\u001b[39m\u001b[38;5;124m\"\u001b[39m\n",
      "\u001b[1;31mTypeError\u001b[0m: 'str' object does not support item assignment"
     ]
    }
   ],
   "source": [
    "#Question 6 Strings 2\n",
    "#Oh no! My string has a typo!\n",
    "\n",
    "string = \"I Bove python\"\n",
    "\n",
    "#No worries though. I'll just fix that.\n",
    "\n",
    "string[2]=\"L\""
   ]
  },
  {
   "cell_type": "code",
   "execution_count": 30,
   "id": "79612d13-2d15-41a8-8f65-0727e33d2292",
   "metadata": {},
   "outputs": [
    {
     "name": "stdout",
     "output_type": "stream",
     "text": [
      "2\n",
      "11\n"
     ]
    }
   ],
   "source": [
    "#Question 9 Operators 2\n",
    "\n",
    "#integers\n",
    "print(1 + 1)\n",
    "#strings\n",
    "print(\"1\" + \"1\")\n"
   ]
  },
  {
   "cell_type": "code",
   "execution_count": 31,
   "id": "4467afae-6374-4200-9d81-49de185a5d09",
   "metadata": {},
   "outputs": [
    {
     "data": {
      "text/plain": [
       "'73'"
      ]
     },
     "execution_count": 31,
     "metadata": {},
     "output_type": "execute_result"
    }
   ],
   "source": [
    "#Questions 10 String 3\n",
    "\"7\" + \"3\""
   ]
  },
  {
   "cell_type": "code",
   "execution_count": null,
   "id": "40bf84b6-73f6-4d5d-9976-ce08fc331c41",
   "metadata": {},
   "outputs": [],
   "source": []
  }
 ],
 "metadata": {
  "kernelspec": {
   "display_name": "Python 3 (ipykernel)",
   "language": "python",
   "name": "python3"
  },
  "language_info": {
   "codemirror_mode": {
    "name": "ipython",
    "version": 3
   },
   "file_extension": ".py",
   "mimetype": "text/x-python",
   "name": "python",
   "nbconvert_exporter": "python",
   "pygments_lexer": "ipython3",
   "version": "3.11.5"
  }
 },
 "nbformat": 4,
 "nbformat_minor": 5
}
