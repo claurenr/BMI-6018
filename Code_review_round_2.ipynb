{
 "cells": [
  {
   "cell_type": "code",
   "execution_count": 35,
   "id": "9343f72a",
   "metadata": {},
   "outputs": [
    {
     "name": "stdout",
     "output_type": "stream",
     "text": [
      "Stack [[[1, [5, [8]]], 1]]\n",
      "Inner list after append [[5, [8]]]\n",
      "Currentlist  [5, [8]]\n",
      "Stack [[[1, [5, [8]]], 1], [[5, [8]], 1]]\n",
      "Inner list after append [[8]]\n",
      "Currentlist  [8]\n",
      "In else current_list [5, [8]]\n",
      "In else current_list [1, [5, [8]]]\n"
     ]
    },
    {
     "data": {
      "text/plain": [
       "[9]"
      ]
     },
     "execution_count": 35,
     "metadata": {},
     "output_type": "execute_result"
    }
   ],
   "source": [
    "'''\n",
    "Write a python program that, given an input list of any level of complexity/nestedness, will return the inner most list plus\n",
    "1. This is to be done with a while loop. Note: the input will contain only integers or lists. \n",
    "As an example:\n",
    "\n",
    "input_list = [1,2,3,4,[5,6,7,[8,9]]]\n",
    "\n",
    "your_py_program.py input_list\n",
    "\n",
    "will produce:\n",
    "\n",
    "[9,10]\n",
    "\n",
    "That is [8, 9] (the inner most list) plus 1 -> [9, 10]\n",
    "'''\n",
    "def inner_most_list(item_list):\n",
    "    stack = []\n",
    "    #I started off with one thing in the list so I don't get an error\n",
    "    inner_list = [1]\n",
    "    #set current_list = the list passed into the function\n",
    "    current_list = item_list\n",
    "    i = 0\n",
    "    while True:\n",
    "        #if i == len(current_list) we have gotten to the last element/list of the list\n",
    "        if i == len(current_list):\n",
    "            if current_list == item_list:\n",
    "                inner_list = inner_list[0]\n",
    "                for x in range(len(inner_list)):\n",
    "                    inner_list[x] = inner_list[x] + 1 \n",
    "                return inner_list\n",
    "            else:\n",
    "                current_list, i = stack.pop()\n",
    "                print(\"In else current_list\", current_list)\n",
    "                i += 1\n",
    "                continue\n",
    "        #isinstance returns true if the element of the list at i is a nested list\n",
    "        if isinstance(current_list[i], list):\n",
    "            #here we appened the current_list and the index of the start of a nested list\n",
    "            stack.append([current_list, i])\n",
    "            print('Stack', stack)\n",
    "            #inner_list is used to hold each new list until we get to the inner most.\n",
    "            inner_list.pop()\n",
    "            inner_list.append(current_list[i])\n",
    "            print(\"Inner list after append\", inner_list)\n",
    "            #we set current_list equal the list at i\n",
    "            current_list = current_list[i]\n",
    "            print(\"Currentlist \", current_list)\n",
    "            #set i back to 0 so we can start working through the nested list \n",
    "            i = 0\n",
    "        else:\n",
    "            i += 1\n",
    "#length of the list = 3\n",
    "inner_most_list([1,[5,[8]]])\n",
    "\n",
    "#inner_most_list([1, [2, 3], 4, [5, [6, 7]], [8, [9, 10, [11]]]]) \n"
   ]
  },
  {
   "cell_type": "code",
   "execution_count": 56,
   "id": "41fb7ef2",
   "metadata": {},
   "outputs": [
    {
     "name": "stdout",
     "output_type": "stream",
     "text": [
      "deepest [0, [1, [5, [8]]]]\n",
      "item 1\n",
      "item [5, [8]]\n",
      "deepest [1, [5, [8]]]\n",
      "item 5\n",
      "item [8]\n",
      "deepest [2, [8]]\n",
      "item 8\n",
      "deep [2, [8]]\n",
      "deep [2, [8]]\n"
     ]
    },
    {
     "data": {
      "text/plain": [
       "[9]"
      ]
     },
     "execution_count": 56,
     "metadata": {},
     "output_type": "execute_result"
    }
   ],
   "source": [
    "'''\n",
    "\n",
    "Write the a python program that, given an input list of any level of complexity/nestedness, will return the inner most list \n",
    "plus 1. This is to be done with recursion. Note: the input will contain only integers or lists. \n",
    "\n",
    "'''\n",
    "def recursive_inner_plus(list1):\n",
    "    def count_leaf_items(item_list, i):  \n",
    "        deepest = [i, item_list]\n",
    "        print(\"deepest\", deepest)\n",
    "        for item in item_list:\n",
    "            print(\"item\", item)\n",
    "            if isinstance(item, list):\n",
    "                deep = count_leaf_items(item, i+1)\n",
    "                print(\"deep\", deep)\n",
    "                if deep[0] > deepest[0]:  \n",
    "                    deepest = deep\n",
    "        return deepest\n",
    "    #here we call the second function and pass in a starting index\n",
    "    x = count_leaf_items(list1, 0)\n",
    "    return x[1]\n",
    "\n",
    "new_list = recursive_inner_plus([1,[5,[8]]])\n",
    "for i in range(len(new_list)):\n",
    "    new_list[i] = new_list[i] + 1\n",
    "    \n",
    "new_list"
   ]
  },
  {
   "cell_type": "code",
   "execution_count": null,
   "id": "41e07bce",
   "metadata": {},
   "outputs": [],
   "source": []
  }
 ],
 "metadata": {
  "kernelspec": {
   "display_name": "Python 3 (ipykernel)",
   "language": "python",
   "name": "python3"
  },
  "language_info": {
   "codemirror_mode": {
    "name": "ipython",
    "version": 3
   },
   "file_extension": ".py",
   "mimetype": "text/x-python",
   "name": "python",
   "nbconvert_exporter": "python",
   "pygments_lexer": "ipython3",
   "version": "3.11.5"
  }
 },
 "nbformat": 4,
 "nbformat_minor": 5
}
