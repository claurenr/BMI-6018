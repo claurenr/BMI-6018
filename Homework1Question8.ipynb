{
 "cells": [
  {
   "cell_type": "code",
   "execution_count": 1,
   "id": "a2d494c5-bdff-4109-a9c9-b065e2f95bf3",
   "metadata": {},
   "outputs": [
    {
     "name": "stdout",
     "output_type": "stream",
     "text": [
      "24.03\n"
     ]
    }
   ],
   "source": [
    "#Question 8\n",
    "#Susan's weight (kg)\n",
    "weight = 60\n",
    "#Susan's height (m)\n",
    "height = 1.58\n",
    "#Susan's BMI\n",
    "BMI = weight / (height**2)\n",
    "print(round(BMI, 2))"
   ]
  },
  {
   "cell_type": "code",
   "execution_count": null,
   "id": "1c6500c7-f7fa-4f4c-a178-ca9adc6c6941",
   "metadata": {},
   "outputs": [],
   "source": []
  }
 ],
 "metadata": {
  "kernelspec": {
   "display_name": "Python 3 (ipykernel)",
   "language": "python",
   "name": "python3"
  },
  "language_info": {
   "codemirror_mode": {
    "name": "ipython",
    "version": 3
   },
   "file_extension": ".py",
   "mimetype": "text/x-python",
   "name": "python",
   "nbconvert_exporter": "python",
   "pygments_lexer": "ipython3",
   "version": "3.11.5"
  }
 },
 "nbformat": 4,
 "nbformat_minor": 5
}
