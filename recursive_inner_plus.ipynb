{
 "cells": [
  {
   "cell_type": "code",
   "execution_count": 88,
   "id": "05faefa5-b2d0-4398-b4d0-b8cca597a060",
   "metadata": {},
   "outputs": [
    {
     "data": {
      "text/plain": [
       "[9, 10]"
      ]
     },
     "execution_count": 88,
     "metadata": {},
     "output_type": "execute_result"
    }
   ],
   "source": [
    "'''\n",
    "Write the a python program that, given an input list of any level of complexity/nestedness, will return the inner most list plus \n",
    "1. This is to be done with recursion. Note: the input will contain only integers or lists. \n",
    "'''\n",
    "def count_leaf_items(item_list):\n",
    "    for i in range(len(item_list)):\n",
    "        if isinstance(item_list[i], list):\n",
    "            item_list = count_leaf_items(item_list[i])\n",
    "    return (item_list)\n",
    "item_list = [1,2,3,4,[5,6,7,[8,9]]]\n",
    "new_list = count_leaf_items (item_list)\n",
    "for i in range(len(new_list)):\n",
    "    new_list[i] = new_list[i] + 1\n",
    "    \n",
    "new_list"
   ]
  },
  {
   "cell_type": "code",
   "execution_count": null,
   "id": "af65770e-81f1-4e34-bb28-5ff35ff68598",
   "metadata": {},
   "outputs": [],
   "source": []
  }
 ],
 "metadata": {
  "kernelspec": {
   "display_name": "Python 3 (ipykernel)",
   "language": "python",
   "name": "python3"
  },
  "language_info": {
   "codemirror_mode": {
    "name": "ipython",
    "version": 3
   },
   "file_extension": ".py",
   "mimetype": "text/x-python",
   "name": "python",
   "nbconvert_exporter": "python",
   "pygments_lexer": "ipython3",
   "version": "3.11.5"
  }
 },
 "nbformat": 4,
 "nbformat_minor": 5
}
